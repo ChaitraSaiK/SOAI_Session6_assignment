{
 "cells": [
  {
   "cell_type": "code",
   "execution_count": 1,
   "metadata": {},
   "outputs": [],
   "source": [
    "from __future__ import print_function\n",
    "import torch\n",
    "import torch.nn as nn\n",
    "import torch.nn.functional as F\n",
    "import torch.optim as optim\n",
    "import numpy as np\n",
    "from torchvision import datasets, transforms"
   ]
  },
  {
   "cell_type": "code",
   "execution_count": 2,
   "metadata": {},
   "outputs": [],
   "source": [
    "# class Net(nn.Module):\n",
    "#     def __init__(self):\n",
    "#         super(Net, self).__init__()\n",
    "#         # Initial block\n",
    "#         self.conv1 = nn.Conv2d(1, 10, 3, padding=1)  # 28x28x10\n",
    "#         self.bn1 = nn.BatchNorm2d(10)\n",
    "       \n",
    "#         # Block 1\n",
    "#         self.conv2 = nn.Conv2d(10, 16, 3, padding=1)  # 28x28x16\n",
    "#         self.bn2 = nn.BatchNorm2d(16)\n",
    "#         self.conv3 = nn.Conv2d(16, 16, 3, padding=1)  # 28x28x16\n",
    "#         self.bn3 = nn.BatchNorm2d(16)\n",
    "       \n",
    "#         # Transition 1\n",
    "#         self.pool1 = nn.MaxPool2d(2, 2)  # 14x14x16\n",
    "       \n",
    "#         # Block 2\n",
    "#         self.conv4 = nn.Conv2d(16, 16, 3, padding=1)  # 14x14x16\n",
    "#         self.bn4 = nn.BatchNorm2d(16)\n",
    "#         self.conv5 = nn.Conv2d(16, 16, 3, padding=1)  # 14x14x16\n",
    "#         self.bn5 = nn.BatchNorm2d(16)\n",
    "       \n",
    "#         # Transition 2\n",
    "#         self.pool2 = nn.MaxPool2d(2, 2)  # 7x7x16\n",
    "       \n",
    "#         # Final block\n",
    "#         self.conv6 = nn.Conv2d(16, 16, 3)  # 5x5x16\n",
    "#         self.bn6 = nn.BatchNorm2d(16)\n",
    "#         self.conv7 = nn.Conv2d(16, 10, 1)  # 5x5x10\n",
    "       \n",
    "#         self.dropout = nn.Dropout(0.05)\n",
    "\n",
    "\n",
    "#     def forward(self, x):\n",
    "#         # Initial block\n",
    "#         x = (F.relu(self.bn1(self.conv1(x))))\n",
    "       \n",
    "#         # Block 1\n",
    "#         x = (F.relu(self.bn2(self.conv2(x))))\n",
    "#         x = self.dropout(F.relu(self.bn3(self.conv3(x))))\n",
    "#         x = self.pool1(x)\n",
    "       \n",
    "#         # Block 2\n",
    "#         x = (F.relu(self.bn4(self.conv4(x))))\n",
    "#         x = self.dropout(F.relu(self.bn5(self.conv5(x))))\n",
    "#         x = self.pool2(x)\n",
    "       \n",
    "#         # Final block\n",
    "#         x = self.dropout(F.relu(self.bn6(self.conv6(x))))\n",
    "#         x = self.conv7(x)\n",
    "#         x = F.adaptive_avg_pool2d(x, 1)\n",
    "#         x = x.view(-1, 10)\n",
    "#         return F.log_softmax(x, dim=1)\n"
   ]
  },
  {
   "cell_type": "code",
   "execution_count": 26,
   "metadata": {},
   "outputs": [],
   "source": [
    "class Net(nn.Module):\n",
    "    def __init__(self):\n",
    "        super(Net, self).__init__()\n",
    "        # Initial Block\n",
    "        self.conv1 = nn.Conv2d(1, 8, 3, padding=1, bias=False)  # 28x28x8\n",
    "        self.bn1 = nn.BatchNorm2d(8)\n",
    "        \n",
    "        # Block 1\n",
    "        self.conv2 = nn.Conv2d(8, 16, 3, padding=1, bias=False)  # 28x28x16\n",
    "        self.bn2 = nn.BatchNorm2d(16)\n",
    "        \n",
    "        # Transition 1\n",
    "        self.pool1 = nn.MaxPool2d(2, 2)  # 14x14x16\n",
    "        \n",
    "        # Block 2\n",
    "        self.conv3 = nn.Conv2d(16, 16, 3, padding=1, bias=False)  # 14x14x16\n",
    "        self.bn3 = nn.BatchNorm2d(16)\n",
    "        self.conv4 = nn.Conv2d(16, 16, 3, padding=1, bias=False)  # 14x14x16\n",
    "        self.bn4 = nn.BatchNorm2d(16)\n",
    "        \n",
    "        # Transition 2\n",
    "        self.pool2 = nn.MaxPool2d(2, 2)  # 7x7x16\n",
    "        \n",
    "        # Block 3\n",
    "        self.conv5 = nn.Conv2d(16, 16, 3, padding=1, bias=False)  # 7x7x16\n",
    "        self.bn5 = nn.BatchNorm2d(16)\n",
    "        self.conv6 = nn.Conv2d(16, 32, 3, padding=1, bias=False)  # 7x7x32\n",
    "        self.bn6 = nn.BatchNorm2d(32)\n",
    "        \n",
    "        # Final Block\n",
    "        self.conv7 = nn.Conv2d(32, 10, 1, bias=False)  # 7x7x10\n",
    "        \n",
    "        self.dropout = nn.Dropout(0.1)\n",
    "\n",
    "    def forward(self, x):\n",
    "        x = self.dropout(self.bn1(F.relu(self.conv1(x))))\n",
    "        \n",
    "        x = self.dropout(self.bn2(F.relu(self.conv2(x))))\n",
    "        x = self.pool1(x)\n",
    "        \n",
    "        x = self.dropout(self.bn3(F.relu(self.conv3(x))))\n",
    "        x = self.dropout(self.bn4(F.relu(self.conv4(x))))\n",
    "        x = self.pool2(x)\n",
    "        \n",
    "        x = self.dropout(self.bn5(F.relu(self.conv5(x))))\n",
    "        x = self.dropout(self.bn6(F.relu(self.conv6(x))))\n",
    "        \n",
    "        x = self.conv7(x)\n",
    "        x = F.adaptive_avg_pool2d(x, 1)\n",
    "        x = x.view(-1, 10)\n",
    "        return F.log_softmax(x, dim=1)"
   ]
  },
  {
   "cell_type": "code",
   "execution_count": 27,
   "metadata": {},
   "outputs": [
    {
     "name": "stdout",
     "output_type": "stream",
     "text": [
      "Note: you may need to restart the kernel to use updated packages.\n",
      "Requirement already satisfied: numpy in c:\\users\\pooji\\appdata\\local\\programs\\python\\python312\\lib\\site-packages (2.1.3)\n"
     ]
    },
    {
     "name": "stderr",
     "output_type": "stream",
     "text": [
      "\n",
      "[notice] A new release of pip is available: 24.2 -> 24.3.1\n",
      "[notice] To update, run: python.exe -m pip install --upgrade pip\n"
     ]
    },
    {
     "name": "stdout",
     "output_type": "stream",
     "text": [
      "Requirement already satisfied: torchsummary in c:\\users\\pooji\\appdata\\local\\programs\\python\\python312\\lib\\site-packages (1.5.1)Note: you may need to restart the kernel to use updated packages.\n",
      "\n",
      "----------------------------------------------------------------\n",
      "        Layer (type)               Output Shape         Param #\n",
      "================================================================\n",
      "            Conv2d-1            [-1, 8, 28, 28]              72\n",
      "       BatchNorm2d-2            [-1, 8, 28, 28]              16\n",
      "           Dropout-3            [-1, 8, 28, 28]               0\n",
      "            Conv2d-4           [-1, 16, 28, 28]           1,152\n",
      "       BatchNorm2d-5           [-1, 16, 28, 28]              32\n",
      "           Dropout-6           [-1, 16, 28, 28]               0\n",
      "         MaxPool2d-7           [-1, 16, 14, 14]               0\n",
      "            Conv2d-8           [-1, 16, 14, 14]           2,304\n",
      "       BatchNorm2d-9           [-1, 16, 14, 14]              32\n",
      "          Dropout-10           [-1, 16, 14, 14]               0\n",
      "           Conv2d-11           [-1, 16, 14, 14]           2,304\n",
      "      BatchNorm2d-12           [-1, 16, 14, 14]              32\n",
      "          Dropout-13           [-1, 16, 14, 14]               0\n",
      "        MaxPool2d-14             [-1, 16, 7, 7]               0\n",
      "           Conv2d-15             [-1, 16, 7, 7]           2,304\n",
      "      BatchNorm2d-16             [-1, 16, 7, 7]              32\n",
      "          Dropout-17             [-1, 16, 7, 7]               0\n",
      "           Conv2d-18             [-1, 32, 7, 7]           4,608\n",
      "      BatchNorm2d-19             [-1, 32, 7, 7]              64\n",
      "          Dropout-20             [-1, 32, 7, 7]               0\n",
      "           Conv2d-21             [-1, 10, 7, 7]             320\n",
      "================================================================\n",
      "Total params: 13,272\n",
      "Trainable params: 13,272\n",
      "Non-trainable params: 0\n",
      "----------------------------------------------------------------\n",
      "Input size (MB): 0.00\n",
      "Forward/backward pass size (MB): 0.66\n",
      "Params size (MB): 0.05\n",
      "Estimated Total Size (MB): 0.72\n",
      "----------------------------------------------------------------\n"
     ]
    },
    {
     "name": "stderr",
     "output_type": "stream",
     "text": [
      "\n",
      "[notice] A new release of pip is available: 24.2 -> 24.3.1\n",
      "[notice] To update, run: python.exe -m pip install --upgrade pip\n"
     ]
    }
   ],
   "source": [
    "# First install numpy\n",
    "%pip install numpy\n",
    "\n",
    "# Then install torchsummary (though you already have this)\n",
    "%pip install torchsummary\n",
    "\n",
    "# Now import and run your summary\n",
    "from torchsummary import summary\n",
    "use_cuda = torch.cuda.is_available()\n",
    "device = torch.device(\"cuda\" if use_cuda else \"cpu\")\n",
    "model = Net().to(device)\n",
    "summary(model, input_size=(1, 28, 28))"
   ]
  },
  {
   "cell_type": "code",
   "execution_count": 28,
   "metadata": {},
   "outputs": [],
   "source": [
    "torch.manual_seed(1)\n",
    "batch_size = 28\n",
    "\n",
    "\n",
    "kwargs = {'num_workers': 1, 'pin_memory': True} if use_cuda else {}\n",
    "# train_loader = torch.utils.data.DataLoader(\n",
    "#     datasets.MNIST('../data', train=True, download=True,\n",
    "#                     transform=transforms.Compose([\n",
    "#                         transforms.ToTensor(),\n",
    "#                         transforms.Normalize((0.5,), (0.5,))\n",
    "#                     ])),\n",
    "#     batch_size=batch_size, shuffle=True, **kwargs)\n",
    "# test_loader = torch.utils.data.DataLoader(\n",
    "#     datasets.MNIST('../data', train=False, transform=transforms.Compose([\n",
    "#                         transforms.ToTensor(),\n",
    "#                         transforms.Normalize((0.5,), (0.5,))\n",
    "#                     ])),\n",
    "#     batch_size=batch_size, shuffle=True, **kwargs)\n",
    "train_loader = torch.utils.data.DataLoader(\n",
    "    datasets.MNIST('../data', train=True, download=True,\n",
    "                   transform=transforms.Compose([\n",
    "                       transforms.RandomRotation((-15, 15)),\n",
    "                       transforms.RandomAffine(0, translate=(0.1, 0.1), scale=(0.9, 1.1), shear=5),\n",
    "                       transforms.ToTensor(),\n",
    "                       transforms.Normalize((0.1307,), (0.3081,))\n",
    "                   ])),\n",
    "    batch_size=batch_size, shuffle=True, **kwargs)\n",
    "\n",
    "test_loader = torch.utils.data.DataLoader(\n",
    "    datasets.MNIST('../data', train=False, transform=transforms.Compose([\n",
    "                        transforms.ToTensor(),\n",
    "                        transforms.Normalize((0.1307,), (0.3081,))\n",
    "                    ])),\n",
    "    batch_size=batch_size, shuffle=True, **kwargs)\n",
    "\n",
    "\n"
   ]
  },
  {
   "cell_type": "code",
   "execution_count": 29,
   "metadata": {},
   "outputs": [],
   "source": [
    "from tqdm import tqdm\n",
    "def train(model, device, train_loader, optimizer, epoch):\n",
    "    model.train()\n",
    "    pbar = tqdm(train_loader)\n",
    "    for batch_idx, (data, target) in enumerate(pbar):\n",
    "        data, target = data.to(device), target.to(device)\n",
    "        optimizer.zero_grad()\n",
    "        output = model(data)\n",
    "        loss = F.nll_loss(output, target)\n",
    "        loss.backward()\n",
    "        optimizer.step()\n",
    "        pbar.set_description(desc= f'loss={loss.item()} batch_id={batch_idx}')\n",
    "\n",
    "\n",
    "\n",
    "\n",
    "def test(model, device, test_loader):\n",
    "    model.eval()\n",
    "    test_loss = 0\n",
    "    correct = 0\n",
    "    with torch.no_grad():\n",
    "        for data, target in test_loader:\n",
    "            data, target = data.to(device), target.to(device)\n",
    "            output = model(data)\n",
    "            test_loss += F.nll_loss(output, target, reduction='sum').item()\n",
    "            pred = output.argmax(dim=1, keepdim=True)\n",
    "            correct += pred.eq(target.view_as(pred)).sum().item()\n",
    "\n",
    "\n",
    "    test_loss /= len(test_loader.dataset)\n",
    "    test_acc = 100. * correct / len(test_loader.dataset)\n",
    "\n",
    "\n",
    "    print('\\nTest set: Average loss: {:.4f}, Accuracy: {}/{} ({:.2f}%)\\n'.format(\n",
    "        test_loss, correct, len(test_loader.dataset), test_acc))\n",
    "   \n",
    "    return test_loss, test_acc"
   ]
  },
  {
   "cell_type": "code",
   "execution_count": 31,
   "metadata": {},
   "outputs": [
    {
     "name": "stdout",
     "output_type": "stream",
     "text": [
      "Starting Training...\n",
      "\n",
      "Epoch 1/20:\n"
     ]
    },
    {
     "name": "stderr",
     "output_type": "stream",
     "text": [
      "loss=0.36201441287994385 batch_id=2142: 100%|██████████| 2143/2143 [01:04<00:00, 33.33it/s]  \n"
     ]
    },
    {
     "name": "stdout",
     "output_type": "stream",
     "text": [
      "\n",
      "Test set: Average loss: 0.0587, Accuracy: 9809/10000 (98.09%)\n",
      "\n",
      "\n",
      "Epoch 2/20:\n"
     ]
    },
    {
     "name": "stderr",
     "output_type": "stream",
     "text": [
      "loss=0.033231236040592194 batch_id=2142: 100%|██████████| 2143/2143 [01:08<00:00, 31.23it/s] \n"
     ]
    },
    {
     "name": "stdout",
     "output_type": "stream",
     "text": [
      "\n",
      "Test set: Average loss: 0.0444, Accuracy: 9855/10000 (98.55%)\n",
      "\n",
      "\n",
      "Epoch 3/20:\n"
     ]
    },
    {
     "name": "stderr",
     "output_type": "stream",
     "text": [
      "loss=0.048092275857925415 batch_id=2142: 100%|██████████| 2143/2143 [01:08<00:00, 31.12it/s] \n"
     ]
    },
    {
     "name": "stdout",
     "output_type": "stream",
     "text": [
      "\n",
      "Test set: Average loss: 0.0452, Accuracy: 9841/10000 (98.41%)\n",
      "\n",
      "\n",
      "Epoch 4/20:\n"
     ]
    },
    {
     "name": "stderr",
     "output_type": "stream",
     "text": [
      "loss=0.10731331259012222 batch_id=2142: 100%|██████████| 2143/2143 [01:06<00:00, 32.13it/s]  \n"
     ]
    },
    {
     "name": "stdout",
     "output_type": "stream",
     "text": [
      "\n",
      "Test set: Average loss: 0.0382, Accuracy: 9873/10000 (98.73%)\n",
      "\n",
      "\n",
      "Epoch 5/20:\n"
     ]
    },
    {
     "name": "stderr",
     "output_type": "stream",
     "text": [
      "loss=0.0043037221767008305 batch_id=2142: 100%|██████████| 2143/2143 [01:04<00:00, 33.29it/s]\n"
     ]
    },
    {
     "name": "stdout",
     "output_type": "stream",
     "text": [
      "\n",
      "Test set: Average loss: 0.0261, Accuracy: 9914/10000 (99.14%)\n",
      "\n",
      "\n",
      "Epoch 6/20:\n"
     ]
    },
    {
     "name": "stderr",
     "output_type": "stream",
     "text": [
      "loss=0.01770012080669403 batch_id=2142: 100%|██████████| 2143/2143 [01:03<00:00, 33.63it/s]  \n"
     ]
    },
    {
     "name": "stdout",
     "output_type": "stream",
     "text": [
      "\n",
      "Test set: Average loss: 0.0273, Accuracy: 9910/10000 (99.10%)\n",
      "\n",
      "\n",
      "Epoch 7/20:\n"
     ]
    },
    {
     "name": "stderr",
     "output_type": "stream",
     "text": [
      "loss=0.032996486872434616 batch_id=2142: 100%|██████████| 2143/2143 [01:06<00:00, 32.06it/s] \n"
     ]
    },
    {
     "name": "stdout",
     "output_type": "stream",
     "text": [
      "\n",
      "Test set: Average loss: 0.0222, Accuracy: 9926/10000 (99.26%)\n",
      "\n",
      "\n",
      "Epoch 8/20:\n"
     ]
    },
    {
     "name": "stderr",
     "output_type": "stream",
     "text": [
      "loss=0.06929231435060501 batch_id=2142: 100%|██████████| 2143/2143 [01:05<00:00, 32.47it/s]  \n"
     ]
    },
    {
     "name": "stdout",
     "output_type": "stream",
     "text": [
      "\n",
      "Test set: Average loss: 0.0285, Accuracy: 9902/10000 (99.02%)\n",
      "\n",
      "\n",
      "Epoch 9/20:\n"
     ]
    },
    {
     "name": "stderr",
     "output_type": "stream",
     "text": [
      "loss=0.059952590614557266 batch_id=2142: 100%|██████████| 2143/2143 [01:03<00:00, 33.94it/s] \n"
     ]
    },
    {
     "name": "stdout",
     "output_type": "stream",
     "text": [
      "\n",
      "Test set: Average loss: 0.0294, Accuracy: 9909/10000 (99.09%)\n",
      "\n",
      "\n",
      "Epoch 10/20:\n"
     ]
    },
    {
     "name": "stderr",
     "output_type": "stream",
     "text": [
      "loss=0.07877877354621887 batch_id=2142: 100%|██████████| 2143/2143 [01:03<00:00, 33.75it/s]  \n"
     ]
    },
    {
     "name": "stdout",
     "output_type": "stream",
     "text": [
      "\n",
      "Test set: Average loss: 0.0181, Accuracy: 9943/10000 (99.43%)\n",
      "\n",
      "\n",
      "Reached target accuracy of 99.43% at epoch 10\n"
     ]
    }
   ],
   "source": [
    "model = Net().to(device)\n",
    "optimizer = optim.Adam(model.parameters(), lr=0.0001)\n",
    "scheduler = optim.lr_scheduler.OneCycleLR(optimizer, max_lr=0.1, epochs=20, steps_per_epoch=len(train_loader))\n",
    "# scheduler = optim.lr_scheduler.OneCycleLR(\n",
    "#     optimizer,\n",
    "#     max_lr=0.1,\n",
    "#     epochs=20,\n",
    "#     steps_per_epoch=len(train_loader),\n",
    "#     pct_start=0.2,  # Spend 20% of time in warmup\n",
    "#     div_factor=10,  # Initial learning rate is max_lr/10\n",
    "#     final_div_factor=100  # Final learning rate is initial_lr/100\n",
    "# )\n",
    "\n",
    "print(\"Starting Training...\")\n",
    "for epoch in range(1, 21):\n",
    "    print(f\"\\nEpoch {epoch}/20:\")\n",
    "    train(model, device, train_loader, optimizer, epoch)\n",
    "    test_loss, test_acc = test(model, device, test_loader)\n",
    "   \n",
    "    # Early stopping if we reach target accuracy\n",
    "    if test_acc >= 99.4:\n",
    "        print(f\"\\nReached target accuracy of {test_acc:.2f}% at epoch {epoch}\")\n",
    "        break\n",
    "\n"
   ]
  },
  {
   "cell_type": "markdown",
   "metadata": {},
   "source": []
  },
  {
   "cell_type": "code",
   "execution_count": null,
   "metadata": {},
   "outputs": [],
   "source": []
  },
  {
   "cell_type": "code",
   "execution_count": null,
   "metadata": {},
   "outputs": [],
   "source": []
  },
  {
   "cell_type": "code",
   "execution_count": null,
   "metadata": {},
   "outputs": [],
   "source": []
  },
  {
   "cell_type": "code",
   "execution_count": null,
   "metadata": {},
   "outputs": [],
   "source": []
  },
  {
   "cell_type": "code",
   "execution_count": null,
   "metadata": {},
   "outputs": [],
   "source": []
  },
  {
   "cell_type": "code",
   "execution_count": null,
   "metadata": {},
   "outputs": [],
   "source": []
  }
 ],
 "metadata": {
  "kernelspec": {
   "display_name": "Python 3",
   "language": "python",
   "name": "python3"
  },
  "language_info": {
   "codemirror_mode": {
    "name": "ipython",
    "version": 3
   },
   "file_extension": ".py",
   "mimetype": "text/x-python",
   "name": "python",
   "nbconvert_exporter": "python",
   "pygments_lexer": "ipython3",
   "version": "3.12.7"
  }
 },
 "nbformat": 4,
 "nbformat_minor": 2
}
